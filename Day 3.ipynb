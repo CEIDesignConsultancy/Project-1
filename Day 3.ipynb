{
 "cells": [
  {
   "cell_type": "code",
   "execution_count": 28,
   "id": "fb343cde",
   "metadata": {},
   "outputs": [],
   "source": [
    "from bs4 import BeautifulSoup\n",
    "import pandas as pd\n",
    "import os"
   ]
  },
  {
   "cell_type": "code",
   "execution_count": 29,
   "id": "fff2d4f7",
   "metadata": {},
   "outputs": [],
   "source": [
    "folder_path = r'C:\\Users\\HP\\Desktop\\Python Internship\\bpharma\\found'"
   ]
  },
  {
   "cell_type": "code",
   "execution_count": 30,
   "id": "7d426ca9",
   "metadata": {},
   "outputs": [
    {
     "name": "stdout",
     "output_type": "stream",
     "text": [
      "Data extraction complete. Results saved to 'bpharma_output.csv'.\n"
     ]
    }
   ],
   "source": [
    "results = []\n",
    "for filename in os.listdir(folder_path):\n",
    "    if filename.endswith('.html'):\n",
    "        file_path = os.path.join(folder_path, filename)\n",
    "        with open(file_path, 'r', encoding='utf-8') as file:\n",
    "            soup = BeautifulSoup(file, 'html.parser')\n",
    "            sgpa = None\n",
    "            cgpa = None\n",
    "        \n",
    "        div_1  = soup.find(\"div\",{\"class\" : \"cont_outer\"})\n",
    "        if div_1:\n",
    "            table = div_1.find(\"table\", {\"class\": \"cont_DIV_UN\"})\n",
    "            if table:\n",
    "                div_2 = div_1.find(\"div\",{\"id\": \"midd_part_UN\"})\n",
    "                if div_2:\n",
    "                    table_2 = div_2.find(\"table\")\n",
    "                    if table_2:\n",
    "                        td_all = table_2.findAll(\"td\", {\"class\": \"border1\"})\n",
    "                        if len(td_all) >= 6:\n",
    "                            sgpa = td_all[-6].text.replace('SGPA', \"\").strip()\n",
    "                            if len(td_all) >= 4:\n",
    "                                cgpa = td_all[-4].text.replace('CGPA', \"\").strip()\n",
    "        results.append({\n",
    "            \"file_name\" : filename,\n",
    "            \"sgpa\" : sgpa,\n",
    "            \"cgpa\" : cgpa,\n",
    "        })\n",
    "            \n",
    "df = pd.DataFrame(results)\n",
    "output_path = 'bpharma_output.csv'\n",
    "df.to_csv(output_path, index= False)\n",
    "print(f\"Data extraction complete. Results saved to '{output_path}'.\")"
   ]
  },
  {
   "cell_type": "code",
   "execution_count": null,
   "id": "e9d08378",
   "metadata": {},
   "outputs": [],
   "source": []
  }
 ],
 "metadata": {
  "kernelspec": {
   "display_name": "Python 3 (ipykernel)",
   "language": "python",
   "name": "python3"
  },
  "language_info": {
   "codemirror_mode": {
    "name": "ipython",
    "version": 3
   },
   "file_extension": ".py",
   "mimetype": "text/x-python",
   "name": "python",
   "nbconvert_exporter": "python",
   "pygments_lexer": "ipython3",
   "version": "3.9.12"
  }
 },
 "nbformat": 4,
 "nbformat_minor": 5
}
